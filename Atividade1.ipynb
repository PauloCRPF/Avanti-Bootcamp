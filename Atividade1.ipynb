{
 "cells": [
  {
   "cell_type": "markdown",
   "metadata": {},
   "source": [
    "1. Escreva uma função que receba uma lista de números e retorne outra lista com os números primos presentes."
   ]
  },
  {
   "cell_type": "code",
   "execution_count": 3,
   "metadata": {},
   "outputs": [
    {
     "name": "stdout",
     "output_type": "stream",
     "text": [
      "[2, 3, 11, 17, 23, 31, 43]\n"
     ]
    }
   ],
   "source": [
    "def is_prime(num):\n",
    "    if num <= 1:\n",
    "        return False\n",
    "    if num <= 3:\n",
    "        return True\n",
    "    if num % 2 == 0 or num % 3 == 0:\n",
    "        return False\n",
    "    i = 5\n",
    "    while i * i <= num:\n",
    "        if num % i == 0 or num % (i + 2) == 0:\n",
    "            return False\n",
    "        i += 6\n",
    "    return True\n",
    "\n",
    "def prime_numbers_in_list(numbers):\n",
    "    prime_list = []\n",
    "    for num in numbers:\n",
    "        if is_prime(num):\n",
    "            prime_list.append(num)\n",
    "    return prime_list\n",
    "\n",
    "numbers = [2, 3, 6, 8, 11, 15, 17, 23, 25, 31, 43,100]\n",
    "prime_numbers = prime_numbers_in_list(numbers)\n",
    "print(prime_numbers) \n"
   ]
  },
  {
   "cell_type": "markdown",
   "metadata": {},
   "source": [
    "2. Escreva uma função que receba duas listas e retorne outra lista com os elementos que estão presentes em apenas uma das listas."
   ]
  },
  {
   "cell_type": "code",
   "execution_count": 4,
   "metadata": {},
   "outputs": [
    {
     "name": "stdout",
     "output_type": "stream",
     "text": [
      "[1, 2, 6, 7]\n"
     ]
    }
   ],
   "source": [
    "def unique_elements_in_lists(list1, list2):\n",
    "    unique_list = []\n",
    "    \n",
    "    for item in list1:\n",
    "        if item not in list2 and item not in unique_list:\n",
    "            unique_list.append(item)\n",
    "    \n",
    "    for item in list2:\n",
    "        if item not in list1 and item not in unique_list:\n",
    "            unique_list.append(item)\n",
    "    \n",
    "    return unique_list\n",
    "\n",
    "list1 = [1, 2, 3, 4, 5]\n",
    "list2 = [3, 4, 5, 6, 7]\n",
    "result = unique_elements_in_lists(list1, list2)\n",
    "print(result)\n"
   ]
  },
  {
   "cell_type": "markdown",
   "metadata": {},
   "source": [
    "3. Dada uma lista de números inteiros, escreva uma função para encontrar o segundo maior valor na lista."
   ]
  },
  {
   "cell_type": "code",
   "execution_count": 5,
   "metadata": {},
   "outputs": [
    {
     "name": "stdout",
     "output_type": "stream",
     "text": [
      "O segundo maior valor na lista é: 25\n"
     ]
    }
   ],
   "source": [
    "def find_second_largest(numbers):\n",
    "\n",
    "    largest = max(numbers) \n",
    "    numbers.remove(largest) \n",
    "\n",
    "    second_largest = max(numbers) \n",
    "\n",
    "    return second_largest\n",
    "\n",
    "numbers = [10, 5, 20, 15, 25, 30]\n",
    "second_largest = find_second_largest(numbers)\n",
    "print(\"O segundo maior valor na lista é:\", second_largest)\n"
   ]
  },
  {
   "cell_type": "markdown",
   "metadata": {},
   "source": [
    "4. Crie uma função que receba uma lista de tuplas, cada uma contendo o nome e a idade de uma pessoa, e retorne a lista ordenada pelo nome das pessoas em ordem alfabética."
   ]
  },
  {
   "cell_type": "code",
   "execution_count": 7,
   "metadata": {},
   "outputs": [
    {
     "name": "stdout",
     "output_type": "stream",
     "text": [
      "[('Alice', 30), ('Bruno', 25), ('Carlos', 40), ('Davi', 28), ('Ema', 35)]\n"
     ]
    }
   ],
   "source": [
    "def sort_people_by_name(people):\n",
    "    sorted_people = sorted(people, key=lambda x: x[0]) \n",
    "    return sorted_people\n",
    "\n",
    "people = [(\"Alice\", 30), (\"Bruno\", 25), (\"Ema\", 35), (\"Davi\", 28), (\"Carlos\", 40)]\n",
    "sorted_people = sort_people_by_name(people)\n",
    "print(sorted_people)"
   ]
  },
  {
   "cell_type": "markdown",
   "metadata": {},
   "source": [
    "5. Dada uma lista contendo números inteiros, como você encontraria o maior número e o menor número dessa lista em uma única passagem?"
   ]
  },
  {
   "cell_type": "code",
   "execution_count": 8,
   "metadata": {},
   "outputs": [
    {
     "name": "stdout",
     "output_type": "stream",
     "text": [
      "Maior número: 30\n",
      "Menor número: 5\n"
     ]
    }
   ],
   "source": [
    "def find_max_and_min(numbers):\n",
    "\n",
    "    maximum = max(numbers)  \n",
    "    minimum = min(numbers)  \n",
    "\n",
    "    return maximum, minimum\n",
    "\n",
    "numbers = [10, 5, 20, 15, 25, 30]\n",
    "max_num, min_num = find_max_and_min(numbers)\n",
    "print(\"Maior número:\", max_num)\n",
    "print(\"Menor número:\", min_num)\n"
   ]
  },
  {
   "cell_type": "markdown",
   "metadata": {},
   "source": [
    "6. Utilizando pandas, como realizar a leitura de um arquivo CSV em um DataFrame e exibir as primeiras linhas?"
   ]
  },
  {
   "cell_type": "code",
   "execution_count": null,
   "metadata": {},
   "outputs": [],
   "source": [
    "import pandas as pd\n",
    "\n",
    "df = pd.read_csv('caminho do arquivo')\n",
    "\n",
    "print(df.head(10))"
   ]
  },
  {
   "cell_type": "markdown",
   "metadata": {},
   "source": [
    "7. Utilizando pandas, como selecionar uma coluna específica e filtrar linhas em um “DataFrame” com base em uma condição?"
   ]
  },
  {
   "cell_type": "code",
   "execution_count": null,
   "metadata": {},
   "outputs": [],
   "source": [
    "import pandas as pd\n",
    "\n",
    "df = pd.read_csv('caminho do arquivo')\n",
    "\n",
    "column = df['column']\n",
    "\n",
    "condition = df['column_condition'] < 30 # Colocar uma condição >, <, ==,etc"
   ]
  },
  {
   "cell_type": "markdown",
   "metadata": {},
   "source": [
    "8. Utilizando pandas, como lidar com valores ausentes (NaN) em um DataFrame?"
   ]
  },
  {
   "cell_type": "code",
   "execution_count": null,
   "metadata": {},
   "outputs": [],
   "source": [
    "import pandas as pd\n",
    "\n",
    "# Existem várias maneiras\n",
    "\n",
    "df.isna() # Verifica valores ausentes no DataFrame\n",
    "\n",
    "df = df.dropna() # Remove linhas com no mínimo um valor ausente\n",
    "\n",
    "df = df.dropna(axis=1) # Remove colunas com no mínimo um valor ausente\n",
    "\n",
    "df = df.fillna(num) # Preenche valores vazios com algum num, representado pela varíavel num\n",
    "\n"
   ]
  },
  {
   "cell_type": "markdown",
   "metadata": {},
   "source": [
    "9. Complete o código:\n",
    "\n",
    "\n",
    "import __________.pyplot as plt\n",
    "\n",
    "import numpy as ___\n",
    "\n",
    "\n",
    "fig, axs = plt.subplots(ncols=2, nrows=2, figsize=(5.5, 3.5),\n",
    "\n",
    "                        layout=\"constrained\")\n",
    "\n",
    "\n",
    "for ___ in range(2):\n",
    "\n",
    "    for ___ in range(2):\n",
    "\n",
    "        axs[row, col].annotate(f'axs[{row}, {col}]', (0.5, 0.5),\n",
    "\n",
    "                               transform=axs[row, col].transAxes,\n",
    "\n",
    "                               ha='center', va='center', ________=18,\n",
    "\n",
    "                               color='darkgrey')\n",
    "\n",
    "fig.suptitle('__.subplots()')"
   ]
  },
  {
   "cell_type": "code",
   "execution_count": null,
   "metadata": {},
   "outputs": [],
   "source": [
    "import matplotlib.pyplot as plt\n",
    "import numpy as np\n",
    "\n",
    "fig, axs = plt.subplots(ncols=2, nrows=2, figsize=(5.5, 3.5), constrained_layout=True)\n",
    "\n",
    "for row in range(2):\n",
    "    for col in range(2):\n",
    "        axs[row, col].annotate(f'axs[{row}, {col}]', (0.5, 0.5),\n",
    "                               transform=axs[row, col].transAxes,\n",
    "                               ha='center', va='center', fontsize=18,\n",
    "                               color='darkgrey')\n",
    "\n",
    "fig.suptitle('plt.subplots()')\n"
   ]
  },
  {
   "cell_type": "markdown",
   "metadata": {},
   "source": [
    "10. Complete o código:\n",
    "\n",
    "\n",
    "import numpy as np\n",
    "\n",
    "import __________ as mpl\n",
    "\n",
    "import __________.______ as plt\n",
    "\n",
    "\n",
    "x = np.________(-2 * np.pi, 2 * np.pi, 100)\n",
    "\n",
    "y = np.____(x)\n",
    "\n",
    "\n",
    "__, __ = plt.subplots()\n",
    "\n",
    "ax.____(_, _)"
   ]
  },
  {
   "cell_type": "code",
   "execution_count": null,
   "metadata": {},
   "outputs": [],
   "source": [
    "import numpy as np\n",
    "import matplotlib as mpl\n",
    "import matplotlib.pyplot as plt\n",
    "\n",
    "x = np.linspace(-2 * np.pi, 2 * np.pi, 100)\n",
    "y = np.sin(x)\n",
    "\n",
    "fig, ax = plt.subplots()\n",
    "ax.plot(x, y)\n"
   ]
  }
 ],
 "metadata": {
  "kernelspec": {
   "display_name": ".venv",
   "language": "python",
   "name": "python3"
  },
  "language_info": {
   "codemirror_mode": {
    "name": "ipython",
    "version": 3
   },
   "file_extension": ".py",
   "mimetype": "text/x-python",
   "name": "python",
   "nbconvert_exporter": "python",
   "pygments_lexer": "ipython3",
   "version": "3.10.12"
  },
  "orig_nbformat": 4
 },
 "nbformat": 4,
 "nbformat_minor": 2
}
